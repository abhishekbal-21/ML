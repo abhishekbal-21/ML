{
 "cells": [
  {
   "cell_type": "code",
   "execution_count": 1,
   "id": "00a092f8",
   "metadata": {},
   "outputs": [],
   "source": [
    "import numpy as np\n",
    "import pandas as pd\n",
    "from sklearn import datasets"
   ]
  },
  {
   "cell_type": "code",
   "execution_count": 4,
   "id": "b3ba59d4",
   "metadata": {},
   "outputs": [],
   "source": [
    "boston = datasets.load_boston()"
   ]
  },
  {
   "cell_type": "code",
   "execution_count": 5,
   "id": "739266a0",
   "metadata": {},
   "outputs": [],
   "source": [
    "x = boston.data\n",
    "y = boston.target"
   ]
  },
  {
   "cell_type": "code",
   "execution_count": 11,
   "id": "a3481c07",
   "metadata": {},
   "outputs": [
    {
     "name": "stdout",
     "output_type": "stream",
     "text": [
      "['CRIM' 'ZN' 'INDUS' 'CHAS' 'NOX' 'RM' 'AGE' 'DIS' 'RAD' 'TAX' 'PTRATIO'\n",
      " 'B' 'LSTAT']\n"
     ]
    }
   ],
   "source": [
    "df = pd.DataFrame(x)\n",
    "print(boston.feature_names)\n",
    "df.columns = boston.feature_names"
   ]
  },
  {
   "cell_type": "code",
   "execution_count": 49,
   "id": "70ad47b8",
   "metadata": {},
   "outputs": [],
   "source": [
    "df['age_age'] = df.AGE**2\n",
    "x2 = df.values\n",
    "df['age^3'] = df.AGE **3\n",
    "x3 = df.values"
   ]
  },
  {
   "cell_type": "code",
   "execution_count": 50,
   "id": "8cfa4ce3",
   "metadata": {},
   "outputs": [],
   "source": [
    "from sklearn import model_selection\n",
    "from sklearn.linear_model import LinearRegression"
   ]
  },
  {
   "cell_type": "code",
   "execution_count": 51,
   "id": "5bb1decb",
   "metadata": {},
   "outputs": [],
   "source": [
    "x_train,x_test,y_train,y_test = model_selection.train_test_split(x,y,random_state =0 )\n",
    "x2_train,x2_test,y2_train,y2_test = model_selection.train_test_split(x2,y,random_state = 0)\n",
    "x3_train,x3_test,y3_train,y3_test = model_selection.train_test_split(x3,y,random_state = 0)"
   ]
  },
  {
   "cell_type": "code",
   "execution_count": 52,
   "id": "0fda1ad0",
   "metadata": {},
   "outputs": [],
   "source": [
    "alg1 = LinearRegression()\n",
    "alg2 = LinearRegression()\n",
    "alg3 = LinearRegression()"
   ]
  },
  {
   "cell_type": "code",
   "execution_count": 53,
   "id": "aab8d7fe",
   "metadata": {},
   "outputs": [
    {
     "data": {
      "text/plain": [
       "LinearRegression()"
      ]
     },
     "execution_count": 53,
     "metadata": {},
     "output_type": "execute_result"
    }
   ],
   "source": [
    "alg1.fit(x_train,y_train)\n",
    "alg2.fit(x2_train,y2_train)\n",
    "alg3.fit(x3_train,y3_train)"
   ]
  },
  {
   "cell_type": "code",
   "execution_count": 54,
   "id": "17d2773a",
   "metadata": {},
   "outputs": [
    {
     "name": "stdout",
     "output_type": "stream",
     "text": [
      "Train Score:  0.7697699488741149\n",
      "Test Score:  0.6354638433202129\n",
      "Train Score2:  0.7722826712630525\n",
      "Test Score2:  0.6454077420097863\n"
     ]
    }
   ],
   "source": [
    "y_pred = alg1.predict(x_test)\n",
    "train_score = alg1.score(x_train,y_train)\n",
    "test_score = alg1.score(x_test,y_test)\n",
    "print(\"Train Score: \",train_score)\n",
    "print(\"Test Score: \",test_score)\n",
    "\n",
    "train2_score = alg2.score(x2_train,y2_train)\n",
    "test2_score = alg2.score(x2_test,y2_test)\n",
    "print(\"Train Score2: \",train2_score)\n",
    "print(\"Test Score2: \",test2_score)"
   ]
  },
  {
   "cell_type": "code",
   "execution_count": 55,
   "id": "d74acbfd",
   "metadata": {},
   "outputs": [
    {
     "name": "stdout",
     "output_type": "stream",
     "text": [
      "Train Score3:  0.7722826712630525\n",
      "Test Score3:  0.6454077420097863\n"
     ]
    }
   ],
   "source": [
    "train3_score = alg3.score(x3_train,y3_train)\n",
    "test3_score = alg3.score(x3_test,y3_test)\n",
    "print(\"Train Score3: \",train3_score)\n",
    "print(\"Test Score3: \",test3_score)"
   ]
  },
  {
   "cell_type": "code",
   "execution_count": null,
   "id": "dd99f18d",
   "metadata": {},
   "outputs": [],
   "source": [
    "# he nois"
   ]
  },
  {
   "cell_type": "code",
   "execution_count": null,
   "id": "c56a0aa7",
   "metadata": {},
   "outputs": [],
   "source": []
  },
  {
   "cell_type": "code",
   "execution_count": null,
   "id": "082ae50c",
   "metadata": {},
   "outputs": [],
   "source": []
  }
 ],
 "metadata": {
  "kernelspec": {
   "display_name": "Python 3",
   "language": "python",
   "name": "python3"
  },
  "language_info": {
   "codemirror_mode": {
    "name": "ipython",
    "version": 3
   },
   "file_extension": ".py",
   "mimetype": "text/x-python",
   "name": "python",
   "nbconvert_exporter": "python",
   "pygments_lexer": "ipython3",
   "version": "3.8.8"
  }
 },
 "nbformat": 4,
 "nbformat_minor": 5
}
